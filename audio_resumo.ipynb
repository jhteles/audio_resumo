{
  "nbformat": 4,
  "nbformat_minor": 0,
  "metadata": {
    "colab": {
      "provenance": [],
      "authorship_tag": "ABX9TyMp5WDz2UhVEt7phB2Q6v38",
      "include_colab_link": true
    },
    "kernelspec": {
      "name": "python3",
      "display_name": "Python 3"
    },
    "language_info": {
      "name": "python"
    }
  },
  "cells": [
    {
      "cell_type": "markdown",
      "metadata": {
        "id": "view-in-github",
        "colab_type": "text"
      },
      "source": [
        "<a href=\"https://colab.research.google.com/github/jhteles/audio_resumo/blob/main/audio_resumo.ipynb\" target=\"_parent\"><img src=\"https://colab.research.google.com/assets/colab-badge.svg\" alt=\"Open In Colab\"/></a>"
      ]
    },
    {
      "cell_type": "markdown",
      "source": [
        "Instala o Gemini"
      ],
      "metadata": {
        "id": "3Z9_P3THO2UR"
      }
    },
    {
      "cell_type": "code",
      "execution_count": null,
      "metadata": {
        "id": "Ro4jXe9y__AJ"
      },
      "outputs": [],
      "source": [
        "!pip install -U -q google-generativeai"
      ]
    },
    {
      "cell_type": "markdown",
      "source": [
        "Configura a API\n",
        "\n",
        "Lembre-se de salvar a chave em \"Secrets\""
      ],
      "metadata": {
        "id": "MAYpBHp3Ng6S"
      }
    },
    {
      "cell_type": "code",
      "source": [
        "import google.generativeai as genai\n",
        "from google.colab import userdata\n",
        "\n",
        "GOOGLE_API_KEY=userdata.get('GOOGLE_API_KEY')\n",
        "genai.configure(api_key=GOOGLE_API_KEY)"
      ],
      "metadata": {
        "id": "TQE7xfaQBAMa"
      },
      "execution_count": null,
      "outputs": []
    },
    {
      "cell_type": "markdown",
      "source": [
        "Carrega o arquivo de áudio"
      ],
      "metadata": {
        "id": "rOZEeQ4oNcoa"
      }
    },
    {
      "cell_type": "code",
      "source": [
        "your_file = genai.upload_file(path='/content/audio_diego.ogg')"
      ],
      "metadata": {
        "id": "CrALIF2PBQE7"
      },
      "execution_count": null,
      "outputs": []
    },
    {
      "cell_type": "markdown",
      "source": [
        "Pede um resumo do áudio ao Gemini"
      ],
      "metadata": {
        "id": "kiVVivnmNQ6L"
      }
    },
    {
      "cell_type": "code",
      "source": [
        "prompt = \"Ouça o áudio com atenção. Gere um breve resumo.\"\n",
        "model = genai.GenerativeModel('models/gemini-1.5-flash')\n",
        "response = model.generate_content([prompt, your_file])\n",
        "print(response.text)"
      ],
      "metadata": {
        "colab": {
          "base_uri": "https://localhost:8080/",
          "height": 54
        },
        "id": "cWKX29M2DoSl",
        "outputId": "60929410-11e5-492a-b069-076ddef1e86a"
      },
      "execution_count": null,
      "outputs": [
        {
          "output_type": "stream",
          "name": "stdout",
          "text": [
            "O áudio trata de uma possível apresentação da banda em um centro comercial na Vila São Francisco. Um amigo da banda que trabalha no local fez contato para uma apresentação. A banda está considerando 3 horas de apresentação e pedindo um orçamento para o som. O orçamento para o som do Ivan, de 2,5 mil reais, é o que a banda está considerando. No entanto, eles precisam de mais um PA para o retorno da Regina e estão discutindo a possibilidade de um orçamento para o som de fora. A banda está esperando um retorno da amiga sobre a localização da apresentação para poder avaliar melhor a necessidade de outros equipamentos. \n"
          ]
        }
      ]
    },
    {
      "cell_type": "markdown",
      "source": [
        "Imprime o resumo com quebras de página por parágrafo"
      ],
      "metadata": {
        "id": "OzFhCmFiOsrg"
      }
    },
    {
      "cell_type": "code",
      "source": [
        "print(response.text.replace(\".\", \".\\n\\n\"))"
      ],
      "metadata": {
        "colab": {
          "base_uri": "https://localhost:8080/"
        },
        "id": "_fsITbeMJpRJ",
        "outputId": "b1078985-33ee-4817-9d1d-165a59eedcb3"
      },
      "execution_count": null,
      "outputs": [
        {
          "output_type": "stream",
          "name": "stdout",
          "text": [
            "O áudio trata de uma possível apresentação da banda em um centro comercial na Vila São Francisco.\n",
            "\n",
            " Um amigo da banda que trabalha no local fez contato para uma apresentação.\n",
            "\n",
            " A banda está considerando 3 horas de apresentação e pedindo um orçamento para o som.\n",
            "\n",
            " O orçamento para o som do Ivan, de 2,5 mil reais, é o que a banda está considerando.\n",
            "\n",
            " No entanto, eles precisam de mais um PA para o retorno da Regina e estão discutindo a possibilidade de um orçamento para o som de fora.\n",
            "\n",
            " A banda está esperando um retorno da amiga sobre a localização da apresentação para poder avaliar melhor a necessidade de outros equipamentos.\n",
            "\n",
            " \n"
          ]
        }
      ]
    }
  ]
}